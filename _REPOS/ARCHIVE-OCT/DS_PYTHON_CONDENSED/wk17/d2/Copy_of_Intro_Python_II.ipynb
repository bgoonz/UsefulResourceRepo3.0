{
  "nbformat": 4,
  "nbformat_minor": 0,
  "metadata": {
    "colab": {
      "name": "Copy of Intro Python II.ipynb",
      "provenance": [],
      "collapsed_sections": []
    },
    "kernelspec": {
      "name": "python3",
      "display_name": "Python 3"
    },
    "language_info": {
      "name": "python"
    }
  },
  "cells": [
    {
      "cell_type": "markdown",
      "metadata": {
        "id": "K8dZz-OIas7G"
      },
      "source": [
        "# Intro to Python II"
      ]
    },
    {
      "cell_type": "code",
      "metadata": {
        "colab": {
          "base_uri": "https://localhost:8080/"
        },
        "id": "CQEOq84_aZ5S",
        "outputId": "a2186b10-30a8-4c5d-a05c-2be31abb31b3"
      },
      "source": [
        "# Slices of lists\n",
        "[12, 23, 10, 20, 50] \n",
        "# sort\n",
        "numbers = [12, 23, 1, 22]\n",
        "# print(l[::-1])\n",
        "# print(dir([]))\n",
        "# min and max\n",
        "# print(min(20, 10, 5)) # 5\n",
        "# print(max(20, 10, 5)) # 20\n",
        "# list index\n",
        "# s = \"100\"\n",
        "# if \"100\" in l:\n",
        "#   print(l.index(s))\n",
        "# else:\n",
        "#   print(f\"{s} not found\")\n",
        "l2 = []\n",
        "for number in numbers:\n",
        "  if number % 2 == 0:\n",
        "    l2.append(number * 2)\n",
        "print(l2)\n",
        "\n",
        "l3 = [number * 2 for number in numbers if number % 2 == 0]\n",
        "print(l3)"
      ],
      "execution_count": null,
      "outputs": [
        {
          "output_type": "stream",
          "text": [
            "[24, 44]\n",
            "[24, 44]\n"
          ],
          "name": "stdout"
        }
      ]
    },
    {
      "cell_type": "markdown",
      "metadata": {
        "id": "j98ImWko53kr"
      },
      "source": [
        "# CODE: 6603"
      ]
    },
    {
      "cell_type": "code",
      "metadata": {
        "colab": {
          "base_uri": "https://localhost:8080/"
        },
        "id": "amtWLdzZvP4B",
        "outputId": "f2024b97-0791-4f06-8d4c-e2d951bf48be"
      },
      "source": [
        "# Classes and OOP\n",
        "\n",
        "class Entity:\n",
        "  def __init__(self, x, y):\n",
        "    self.x = x\n",
        "    self.y = y\n",
        "\n",
        "  def __str__(self):\n",
        "    return f\"({self.x}, {self.y})\"\n",
        "\n",
        "class Mob(Entity):\n",
        "  def __init__(self, x, y):\n",
        "    super().__init__(x, y)\n",
        "\n",
        "  def move(self, dir):\n",
        "    if dir == \"n\":\n",
        "      self.y -= 1\n",
        "    elif dir == \"s\":\n",
        "      self.y += 1\n",
        "    elif dir == \"w\":\n",
        "      self.x -= 1\n",
        "    elif dir == \"e\":\n",
        "      self.x += 1 \n",
        "\n",
        "  \n",
        "\n",
        "e = Entity(10, 20)\n",
        "# print(e)\n",
        "\n",
        "m = Mob(10, 23)\n",
        "print(m)\n",
        "m.move(\"n\")\n",
        "print(m)\n"
      ],
      "execution_count": null,
      "outputs": [
        {
          "output_type": "stream",
          "text": [
            "(10, 23)\n",
            "(10, 22)\n"
          ],
          "name": "stdout"
        }
      ]
    },
    {
      "cell_type": "markdown",
      "metadata": {
        "id": "POTcZJWDEIzJ"
      },
      "source": [
        "# CODE: 6603"
      ]
    },
    {
      "cell_type": "markdown",
      "metadata": {
        "id": "QQef8tpWgaeT"
      },
      "source": [
        "# Demos"
      ]
    },
    {
      "cell_type": "markdown",
      "metadata": {
        "id": "ChRFJ35fghR8"
      },
      "source": [
        "Write a function that retrieves the last n elements from a list.\n",
        "Examples:\n",
        "- last([1, 2, 3, 4, 5], 1) ➞ [5]\n",
        "- last([4, 3, 9, 9, 7, 6], 3) ➞ [9, 7, 6]\n",
        "- last([1, 2, 3, 4, 5], 7) ➞ \"invalid\"\n",
        "- last([1, 2, 3, 4, 5], 0) ➞ []\n",
        "\n",
        "Notes:\n",
        "- Return \"invalid\" if n exceeds the length of the list.\n",
        "- Return an empty list if n == 0."
      ]
    },
    {
      "cell_type": "code",
      "metadata": {
        "colab": {
          "base_uri": "https://localhost:8080/"
        },
        "id": "y4SZRyofgud6",
        "outputId": "75d0f682-a373-45f5-d6d3-700727e413bd"
      },
      "source": [
        "\"\"\"\n",
        "Write a function that retrieves the last n elements from a list.\n",
        "Examples:\n",
        "- last([1, 2, 3, 4, 5], 1) ➞ [5]\n",
        "- last([4, 3, 9, 9, 7, 6], 3) ➞ [9, 7, 6]\n",
        "- last([1, 2, 3, 4, 5], 7) ➞ \"invalid\"\n",
        "- last([1, 2, 3, 4, 5], 0) ➞ []\n",
        "Notes:\n",
        "\n",
        "- Return \"invalid\" if n exceeds the length of the list.\n",
        "\n",
        "- Return an empty list if n == 0.\n",
        "\n",
        "- Return a slice from negative n to the end of the list\n",
        "\n",
        "\"\"\"\n",
        "\n",
        "\n",
        "def last(a, n):\n",
        "  if n > len(a):\n",
        "    return \"invalid\"\n",
        "  elif n == 0:\n",
        "    return []\n",
        "  return a[-n:]\n",
        "\n",
        "print(last([1, 2, 3, 4, 5], 1)) # ➞ [5]\n",
        "print(last([4, 3, 9, 9, 7, 6], 3)) # ➞ [9, 7, 6]\n",
        "print(last([1, 2, 3, 4, 5], 7)) #  ➞ \"invalid\"\n",
        "print(last([1, 2, 3, 4, 5], 0)) # ➞ []"
      ],
      "execution_count": null,
      "outputs": [
        {
          "output_type": "stream",
          "text": [
            "[5]\n",
            "[9, 7, 6]\n",
            "invalid\n",
            "[]\n"
          ],
          "name": "stdout"
        }
      ]
    },
    {
      "cell_type": "markdown",
      "metadata": {
        "id": "THL5Eg5DhG6S"
      },
      "source": [
        "Given an integer, write a function that returns \"Even\" for even integers and\n",
        "\"Odd\" for odd integers.\n",
        "Examples:\n",
        "- parity(0) -> \"Even\"\n",
        "- parity(1) -> \"Odd\"\n",
        "- parity(2) -> \"Even\"\n"
      ]
    },
    {
      "cell_type": "code",
      "metadata": {
        "colab": {
          "base_uri": "https://localhost:8080/"
        },
        "id": "A0dqTcRNhM5q",
        "outputId": "3cafa0a7-023a-4697-fbab-2d054c9b1ff5"
      },
      "source": [
        "\"\"\"\n",
        "Given an integer, write a function that returns \"Even\" for even integers and\n",
        "\"Odd\" for odd integers.\n",
        "Examples:\n",
        "- parity(0) -> \"Even\"\n",
        "- parity(1) -> \"Odd\"\n",
        "- parity(2) -> \"Even\"\n",
        "\n",
        "notes\n",
        "to get even we can mod by 2\n",
        "- if the input_int modulo 2 is zero then return even\n",
        "- otherwise return odd\n",
        "\"\"\"\n",
        "def parity(input_int):\n",
        "  if input_int % 2 == 0:\n",
        "    return \"Even\"\n",
        "  else:\n",
        "    return \"Odd\"\n",
        "\n",
        "def parity2(input_int):\n",
        "  return \"Even\" if input_int % 2 == 0 else \"Odd\"\n",
        "\n",
        "print(parity(0)) #  -> \"Even\"\n",
        "print(parity(1)) #  -> \"Odd\"\n",
        "print(parity(2)) # -> \"Even\"\n",
        "\n",
        "print(parity2(0)) #  -> \"Even\"\n",
        "print(parity2(1)) #  -> \"Odd\"\n",
        "print(parity2(2)) # -> \"Even\"\n",
        "    "
      ],
      "execution_count": null,
      "outputs": [
        {
          "output_type": "stream",
          "text": [
            "Even\n",
            "Odd\n",
            "Even\n",
            "Even\n",
            "Odd\n",
            "Even\n"
          ],
          "name": "stdout"
        }
      ]
    }
  ]
}
{
  "nbformat": 4,
  "nbformat_minor": 0,
  "metadata": {
    "colab": {
      "name": "BST.ipynb",
      "provenance": []
    },
    "kernelspec": {
      "name": "python3",
      "display_name": "Python 3"
    },
    "language_info": {
      "name": "python"
    }
  },
  "cells": [
    {
      "cell_type": "markdown",
      "metadata": {
        "id": "Iw2JMP5RuC9v"
      },
      "source": [
        "# Binary Trees\n",
        "\n",
        "```\n",
        "    5\n",
        "   / \\\n",
        "  12  32\n",
        "     /  \\\n",
        "    8    4\n",
        "```\n",
        "\n"
      ]
    },
    {
      "cell_type": "code",
      "metadata": {
        "id": "s3uccysjzqle"
      },
      "source": [
        "# lets make a node\n",
        "class Node:\n",
        "  def __init__(self, value):\n",
        "    self.value = value\n",
        "\n",
        "n = Node(10)\n",
        "\n",
        "# [10]"
      ],
      "execution_count": null,
      "outputs": []
    },
    {
      "cell_type": "code",
      "metadata": {
        "id": "OoEjSEF7uD-h"
      },
      "source": [
        "# lets make a linked list node\n",
        "class LLNode:\n",
        "  def __init__(self, value):\n",
        "    self.value = value\n",
        "    self.next = None\n",
        "\n",
        "l = LLNode(10)\n",
        "\n",
        "# [10] -> None"
      ],
      "execution_count": null,
      "outputs": []
    },
    {
      "cell_type": "code",
      "metadata": {
        "id": "lJTy43kKqBmR"
      },
      "source": [
        "# lets refactor the linked list node to be a doubly linked list node\n",
        "class DLLNode:\n",
        "  def __init__(self, value):\n",
        "    self.value = value\n",
        "    self.next = None\n",
        "    self.prev = None\n",
        "\n",
        "dl = DLLNode(10)\n",
        "\n",
        "# None <- [10] -> None"
      ],
      "execution_count": null,
      "outputs": []
    },
    {
      "cell_type": "code",
      "metadata": {
        "id": "O81-654pv80Q"
      },
      "source": [
        "# Lets refactor the doubly linked list node to be a binary tree node\n",
        "class BTNode:\n",
        "  def __init__(self, value):\n",
        "    self.value = value\n",
        "    self.left = None\n",
        "    self.right = None\n",
        "\n",
        "bt = BTNode(10)\n",
        "bt.left = BTNode(34)\n",
        "bt.right = BTNode(12)\n",
        "\"\"\"\n",
        "[12, 34, 1, 56, 1]\n",
        "        [12]\n",
        "      /      \\\n",
        "     [1]      [34]\n",
        "    /         /   \\\n",
        "  [1]      [12]    [56]\n",
        "          /  \\\n",
        "        n     n\n",
        "\"\"\""
      ],
      "execution_count": null,
      "outputs": []
    },
    {
      "cell_type": "markdown",
      "metadata": {
        "id": "0oZY8IEpGiwR"
      },
      "source": [
        "# CODE: 4313"
      ]
    },
    {
      "cell_type": "code",
      "metadata": {
        "id": "TukMwYFkIH7C"
      },
      "source": [
        "class BSTNode:\n",
        "  def __init__(self, value):\n",
        "    self.value = value\n",
        "    self.left = None\n",
        "    self.right = None\n",
        "  \n",
        "  def insert(self, value):\n",
        "    # left case\n",
        "    if value < self.value:\n",
        "      if self.left is None:\n",
        "        self.left = BSTNode(value)\n",
        "      else:\n",
        "        self.left.insert(value)\n",
        "    # right case\n",
        "    else:\n",
        "      if self.right is None:\n",
        "        self.right = BSTNode(value)\n",
        "      else:\n",
        "        self.right.insert(value)\n",
        "\n",
        "  def search(self, target):\n",
        "    # base case (we found it!)\n",
        "    if self.value == target:\n",
        "      return self\n",
        "\n",
        "    # Left Case\n",
        "    elif target < self.value:\n",
        "      if self.left is None:\n",
        "        return False\n",
        "      else:\n",
        "        self.left.search(target)\n",
        "    else:\n",
        "      if self.right is None:\n",
        "        return False\n",
        "      else:\n",
        "        self.right.search(target)\n",
        "\n",
        "\n",
        "\n",
        "\n",
        "t = BSTNode(10)\n",
        "t.insert(20)\n",
        "t.insert(15)\n",
        "\n",
        "result = t.search(15)\n",
        "\n",
        "result [15]\n",
        "       /  \\\n",
        "      n    n\n",
        "\n",
        "       [10] s\n",
        "      /    \\\n",
        "     n      [20] s\n",
        "            /   \\\n",
        "         s [15]    n\n",
        "          /  \\\n",
        "          n  n"
      ],
      "execution_count": null,
      "outputs": []
    },
    {
      "cell_type": "code",
      "metadata": {
        "id": "W94RmsLMGfOi"
      },
      "source": [
        ""
      ],
      "execution_count": null,
      "outputs": []
    },
    {
      "cell_type": "markdown",
      "metadata": {
        "id": "BDrgs6t4vxBy"
      },
      "source": [
        "# Demo"
      ]
    },
    {
      "cell_type": "code",
      "metadata": {
        "id": "25zKQBVhvy7T"
      },
      "source": [
        "\"\"\"\n",
        "You are given a binary tree.\n",
        "Write a function that can find the **maximum depth** of the binary tree. The\n",
        "maximum depth can be defined as the number of nodes found along the longest\n",
        "path from the root down to the furthest leaf node. Remember, a leaf node is a\n",
        "node that has no children.\n",
        "Example:\n",
        "Given the following binary tree\n",
        "max_depth = 2\n",
        "left_height = 0\n",
        "right_height = 0\n",
        "\n",
        "- if there is no root node then return a zero\n",
        "\n",
        "- otherwise\n",
        "  - set a left height based on a call to the max depth on the left node\n",
        "  - set a right height based on a call to the max depth on the right node\n",
        "  - get the max of the left height and the right height then return that plus 1\n",
        "\n",
        "** iterative version **\n",
        "- create a stack to simulate the call stack\n",
        "\n",
        "- if the root node is not none\n",
        "  - append the root node to the stack and also the height of that node (1, root)\n",
        "\n",
        "max_depth = 0\n",
        "\n",
        "- while the stack is not empty\n",
        "  pop the tuple off the stack, extracting the current_depth and the root_node\n",
        "\n",
        "  - if the root_node is not none\n",
        "    set max_depth to the max of current_depth and the max_depth\n",
        "    - push the data of (max_depth + 1, root_node.left) on to the stack\n",
        "    - push the data of (max_depth + 1, root_node.right) on to the stack\n",
        "\n",
        "return the max_depth to the caller\n",
        "\n",
        "    5   \n",
        "   / \\\n",
        "  12  32 \n",
        "     /  \\\n",
        "    8    4 \n",
        "your function should return the depth = 3.\n",
        "\"\"\"\n",
        "class BinaryTreeNode:\n",
        "    def __init__(self, value=0, left=None, right=None):\n",
        "        self.value = value\n",
        "        self.left = left\n",
        "        self.right = right\n",
        "\n",
        "\"\"\"\n",
        "r = 5\n",
        "lh = 1\n",
        "rh = \n",
        "\n",
        "r1 = 12\n",
        "lh1 = 1\n",
        "rh1 = 1\n",
        "\n",
        "r2 = None\n",
        "\n",
        "r3 = None\n",
        "\n",
        "r4 = 32\n",
        "lh = 1\n",
        "rh = 1\n",
        "\n",
        "\n",
        "r5 = 8\n",
        "lh = 0\n",
        "rh = 0\n",
        "\n",
        "r6 = None\n",
        "\n",
        "r7 = None\n",
        "\n",
        "r8 = 4\n",
        "lh = 0\n",
        "rh = 0\n",
        "\n",
        "r9 = None\n",
        "\n",
        "r10 = None\n",
        "\n",
        "\"\"\"\n",
        "def maxDepthR(self, root):\n",
        "    if root is None:\n",
        "      return 0\n",
        "\n",
        "    else:\n",
        "      left_height = self.maxDepthR(root.left)\n",
        "      right_height = self.maxDepthR(root.right)\n",
        "      return max(left_height, right_height) + 1\n",
        "\n",
        "def maxDepthI(self, root):\n",
        "    # Your c\n",
        "    pass"
      ],
      "execution_count": null,
      "outputs": []
    }
  ]
}
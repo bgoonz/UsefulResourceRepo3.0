{
  "nbformat": 4,
  "nbformat_minor": 0,
  "metadata": {
    "colab": {
      "name": "qandstack.ipynb",
      "provenance": []
    },
    "kernelspec": {
      "name": "python3",
      "display_name": "Python 3"
    },
    "language_info": {
      "name": "python"
    }
  },
  "cells": [
    {
      "cell_type": "markdown",
      "metadata": {
        "id": "K9BJ4zolA_BX"
      },
      "source": [
        "# Queues and Stacks\n",
        "\n",
        "## Queue\n",
        "- think of a queue as a line of people queing up to be served\n",
        "- FIFO (First In First Out)\n",
        "\n",
        "## Stack\n",
        "- think of a stack as a stack of recipts on a nail or pin\n",
        "- LIFO (Last In First Out)\n",
        "\n",
        "What data structure could be of use as an underlying data storage for a stack or queue?\n"
      ]
    },
    {
      "cell_type": "code",
      "metadata": {
        "id": "cgCxAj6JA8Ea"
      },
      "source": [
        "# lets write a simple stack\n",
        "class Stack:\n",
        "  def __init__(self):\n",
        "    self.storage = []\n",
        "  \n",
        "  def push(self, item):\n",
        "    \"\"\"\n",
        "    push the item on to the top of the stack\n",
        "    \"\"\"\n",
        "    self.storage.append(item)\n",
        "\n",
        "  def pop(self):\n",
        "    \"\"\"\n",
        "    pop the item from the top of the stack returning said item if there is anything on the stack.\n",
        "    otherwise return \"The Stack is Empty\"\n",
        "    \"\"\"\n",
        "    if len(self.storage) > 0:\n",
        "      return self.storage.pop()\n",
        "    return \"The Stack is Empty\""
      ],
      "execution_count": null,
      "outputs": []
    },
    {
      "cell_type": "code",
      "metadata": {
        "id": "HKlIkc-kB5CF"
      },
      "source": [
        "# lets write a simple queue\n",
        "class Queue:\n",
        "  def __init__(self):\n",
        "    self.storage = []\n",
        "  \n",
        "  def enqueue(self, item):\n",
        "    \"\"\"\n",
        "    enqueues the item in to the queue\n",
        "    \"\"\"\n",
        "    self.storage.append(item)\n",
        "\n",
        "  def pop(self):\n",
        "    \"\"\"\n",
        "    pop the item from the top of the stack returning said item if there is anything on the stack.\n",
        "    otherwise return \"The Stack is Empty\"\n",
        "    \"\"\"\n",
        "    if len(self.storage) > 0:\n",
        "      return self.storage.pop()\n",
        "    return \"The Stack is Empty\""
      ],
      "execution_count": null,
      "outputs": []
    },
    {
      "cell_type": "markdown",
      "metadata": {
        "id": "KKIIbvosCDyA"
      },
      "source": [
        "# Break"
      ]
    },
    {
      "cell_type": "code",
      "metadata": {
        "id": "zE2K-xh4B718"
      },
      "source": [
        "# lets write a more performant stack"
      ],
      "execution_count": null,
      "outputs": []
    },
    {
      "cell_type": "code",
      "metadata": {
        "id": "3USQDxqtB-6r"
      },
      "source": [
        "# lets write a more performant queue"
      ],
      "execution_count": null,
      "outputs": []
    },
    {
      "cell_type": "markdown",
      "metadata": {
        "id": "l_P8GdDkCKP2"
      },
      "source": [
        "# Demos"
      ]
    },
    {
      "cell_type": "code",
      "metadata": {
        "id": "wCvd4YTZCMA5"
      },
      "source": [
        "\"\"\"\n",
        "You've encountered a situation where you want to easily be able to pull the\n",
        "largest integer from a stack.\n",
        "You already have a `Stack` class that you've implemented using a dynamic array.\n",
        "Use this `Stack` class to implement a new class `MaxStack` with a method\n",
        "`get_max()` that returns the largest element in the stack. `get_max()` should\n",
        "not remove the item.\n",
        "*Note: Your stacks will contain only integers. You should be able to get a\n",
        "runtime of O(1) for push(), pop(), and get_max().*\n",
        "\"\"\"\n",
        "class Stack:\n",
        "    def __init__(self):\n",
        "        \"\"\"Initialize an empty stack\"\"\"\n",
        "        self.items = []\n",
        "\n",
        "    def push(self, item):\n",
        "        \"\"\"Push a new item onto the stack\"\"\"\n",
        "        self.items.append(item)\n",
        "\n",
        "    def pop(self):\n",
        "        \"\"\"Remove and return the last item\"\"\"\n",
        "        # If the stack is empty, return None\n",
        "        # (it would also be reasonable to throw an exception)\n",
        "        if not self.items:\n",
        "            return None\n",
        "\n",
        "        return self.items.pop()\n",
        "\n",
        "    def peek(self):\n",
        "        \"\"\"Return the last item without removing it\"\"\"\n",
        "        if not self.items:\n",
        "            return None\n",
        "        return self.items[-1]\n",
        "\n",
        "class MaxStack:\n",
        "    def __init__(self):\n",
        "        # Your code here\n",
        "\n",
        "\n",
        "    def push(self, item):\n",
        "        \"\"\"Add a new item onto the top of our stack.\"\"\"\n",
        "        # Your code here\n",
        "\n",
        "\n",
        "    def pop(self):\n",
        "        \"\"\"Remove and return the top item from our stack.\"\"\"\n",
        "        # Your code here\n",
        "\n",
        "\n",
        "    def get_max(self):\n",
        "        \"\"\"The last item in maxes_stack is the max item in our stack.\"\"\"\n",
        "        # Your code here"
      ],
      "execution_count": null,
      "outputs": []
    },
    {
      "cell_type": "markdown",
      "metadata": {
        "id": "5RVKcNuHCX0x"
      },
      "source": [
        "# Optionals"
      ]
    },
    {
      "cell_type": "code",
      "metadata": {
        "id": "C0SE4C4wCOrZ"
      },
      "source": [
        "\"\"\"\n",
        "Your goal is to define a `Queue` class that uses two stacks. Your `Queue` class\n",
        "should have an `enqueue()` method and a `dequeue()` method that ensures a\n",
        "\"first in first out\" (FIFO) order.\n",
        "As you write your methods, you should optimize for time on the `enqueue()` and\n",
        "`dequeue()` method calls.\n",
        "The Stack class that you will use has been provided to you.\n",
        "\"\"\"\n",
        "class Stack:\n",
        "    def __init__(self):\n",
        "        self.data = []\n",
        "        \n",
        "    def push(self, item):\n",
        "        self.data.append(item)\n",
        "\n",
        "    def pop(self):\n",
        "        if len(self.data) > 0:\n",
        "            return self.data.pop()\n",
        "        return \"The stack is empty\"\n",
        "\n",
        "class QueueTwoStacks:\n",
        "    def __init__(self):\n",
        "        # Your code here\n",
        "\n",
        "        \n",
        "    def enqueue(self, item):\n",
        "        # Your code here\n",
        "\n",
        "\n",
        "    def dequeue(self):\n",
        "        # Your code here"
      ],
      "execution_count": null,
      "outputs": []
    }
  ]
}
{
  "nbformat": 4,
  "nbformat_minor": 0,
  "metadata": {
    "colab": {
      "name": "Copy of ArraysAndStrings.ipynb",
      "provenance": [],
      "collapsed_sections": []
    },
    "kernelspec": {
      "name": "python3",
      "display_name": "Python 3"
    },
    "language_info": {
      "name": "python"
    }
  },
  "cells": [
    {
      "cell_type": "markdown",
      "metadata": {
        "id": "pXCnhHV3fgZK"
      },
      "source": [
        "# Arrays and Strings\n",
        "16Bits = 2Bytes\n",
        "\n",
        "8Bit, 16Bit, 32Bit, 64Bit, 128Bit\n",
        "```\n",
        "[123, \"hello\" ]\n",
        "A = [\"Hello\", 232, 100]\n",
        "A[0] -> @A + offest 0 * 2\n",
        "A[1] -> @A + offset 1 * 2 => 100 + 1 * 2\n",
        "offest = base addr * size of data in bucket\n",
        "          128 64 32 16 8 4 2 1\n",
        "00000000   0  1   1  1 1 0 1 1\n",
        "```\n",
        "\n",
        "```\n",
        "[\n",
        "0x100: 00000000\n",
        "0x101: 01111011\n",
        "0x102:\n",
        "0x103:\n",
        "...\n",
        "...\n",
        "...\n",
        "0x123: \"H\n",
        "0x124   e\n",
        "0x125   l\n",
        "0x126   l\n",
        "0x127]  o\"\n",
        "```\n",
        "```python=\n",
        "a = [(\"bob\", (1, 2, 3, \"dave\"), [{\"bob\": [1, 2, \"Hello\"]}], (123, 22)), (2.7), \"bob\"]\n",
        "a[0][1][3][1]\n",
        "[] -> () -> 1 2 3\n",
        "```\n",
        "\n",
        "()\n",
        "\n",
        "1\n",
        "\n",
        "2\n",
        "\n",
        "3"
      ]
    },
    {
      "cell_type": "markdown",
      "metadata": {
        "id": "mMm9d0hzMWKa"
      },
      "source": [
        "# **CODE**: 3672"
      ]
    },
    {
      "cell_type": "code",
      "metadata": {
        "id": "u8UINk4Rfdfq"
      },
      "source": [
        "[12, 23, 34, 44]"
      ],
      "execution_count": null,
      "outputs": []
    },
    {
      "cell_type": "markdown",
      "metadata": {
        "id": "kncQHJljfpX3"
      },
      "source": [
        ""
      ]
    },
    {
      "cell_type": "markdown",
      "metadata": {
        "id": "9S7iQ7IffjXs"
      },
      "source": [
        "# Demo\n",
        "\n",
        "[1, 2, 3]\n",
        "H T U   U\n",
        "1 2 3 + 8\n",
        "\n",
        "TH H T U   U\n",
        "1, 0 0 0 + 1\n",
        "if number 9 change it to zero\n",
        "move to the next power of ten\n",
        "repeat\n",
        "\n"
      ]
    },
    {
      "cell_type": "code",
      "metadata": {
        "colab": {
          "base_uri": "https://localhost:8080/"
        },
        "id": "z8GBa3LzfmLW",
        "outputId": "e904e30d-abf0-498b-ff62-716311a3b65d"
      },
      "source": [
        "\"\"\"\n",
        "You are given a non-empty array that represents the digits of a non-negative integer.\n",
        "Write a function that increments the number by 1.\n",
        "The digits are stored so that the digit representing the most significant place value \n",
        "is at the beginning of the array. Each element in the array only contains a single digit.\n",
        "You will not receive a leading 0 in your input array (except for the number 0 itself).\n",
        "Example 1:\n",
        "Input: [1,3,2]\n",
        "Output: [1,3,3]\n",
        "Explanation: The input array represents the integer 132. 132 + 1 = 133.\n",
        "Example 2:\n",
        "Input: [3,2,1,9]\n",
        "Output: [3,2,2,0]\n",
        "Explanation: The input array represents the integer 3219. 3219 + 1 = 3220.\n",
        "Example 3:\n",
        "Input: [9,9,9]\n",
        "Output: [1,0,0,0]\n",
        "Explanation: The input array represents the integer 999. 999 + 1 = 1000.\n",
        "  \n",
        "[0, 0, 0]\n",
        "\n",
        "n = 3\n",
        "idx = 3 - 1 - 2\n",
        "\"\"\"\n",
        "def plus_one(digits):\n",
        "    # Your code here\n",
        "    n = len(digits)\n",
        "    # iterate over the list from right to left\n",
        "    for i in range(n - 1, -1, -1):\n",
        "      # idx = n - 1 - i\n",
        "      idx = i\n",
        "      # if the current digit is a 9 then set it to a 0\n",
        "      if digits[idx] == 9:\n",
        "        digits[idx] = 0\n",
        "      # otherwise increment the current digit and return digits\n",
        "      else:\n",
        "        digits[idx] += 1\n",
        "        return digits\n",
        "        \n",
        "\n",
        "    # return digits we only get here if the list was all 9's\n",
        "    return [1] + digits\n",
        "\n",
        "\n",
        "print(plus_one([1, 3, 2])) # [1, 3, 3]\n",
        "print(plus_one([3, 2, 1, 9])) # [3, 2, 2, 0]\n",
        "print(plus_one([9, 9, 9])) # [1, 0, 0, 0]"
      ],
      "execution_count": null,
      "outputs": [
        {
          "output_type": "stream",
          "text": [
            "[1, 3, 3]\n",
            "[3, 2, 2, 0]\n",
            "[1, 0, 0, 0]\n"
          ],
          "name": "stdout"
        }
      ]
    },
    {
      "cell_type": "markdown",
      "metadata": {
        "id": "4UoXBT7lWzjC"
      },
      "source": [
        "# **CODE**: 3672"
      ]
    }
  ]
}
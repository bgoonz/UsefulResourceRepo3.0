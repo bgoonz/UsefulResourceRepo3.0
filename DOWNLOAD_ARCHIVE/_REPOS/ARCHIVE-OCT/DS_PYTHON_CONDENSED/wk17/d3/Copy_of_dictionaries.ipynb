{
  "nbformat": 4,
  "nbformat_minor": 0,
  "metadata": {
    "colab": {
      "name": "Copy of dictionaries.ipynb",
      "provenance": [],
      "collapsed_sections": []
    },
    "kernelspec": {
      "name": "python3",
      "display_name": "Python 3"
    },
    "language_info": {
      "name": "python"
    }
  },
  "cells": [
    {
      "cell_type": "markdown",
      "metadata": {
        "id": "Swk4D6Hw6daL"
      },
      "source": [
        "# Dictionaries\n",
        "\n",
        "- key and value pairs\n",
        "- key is what we call any hashable object\n",
        "- hash()"
      ]
    },
    {
      "cell_type": "code",
      "metadata": {
        "colab": {
          "base_uri": "https://localhost:8080/"
        },
        "id": "aDXMTnNq71BN",
        "outputId": "4258d83d-1ccf-4fc4-d3ee-54135ec15077"
      },
      "source": [
        "# take in a string\n",
        "# turn the string in to a meaningful determanistic number\n",
        "\n",
        "# take in a string\n",
        "# create a sum variable\n",
        "# iterate over the string\n",
        "  # turn each char in to a number\n",
        "  # increment sum by that number\n",
        "# return sum\n",
        "storage = [None] * 10\n",
        "\n",
        "def my_hash(key):\n",
        "  sum = 0\n",
        "  for c in key:\n",
        "    nc = ord(c)\n",
        "    sum += nc\n",
        "  return sum\n",
        "# h = my_hash(\"CBA\")\n",
        "# print(h)\n",
        "# n = h % len(storage)\n",
        "# print(n)\n",
        "\n",
        "def put(key, value):\n",
        "  idx = my_hash(key) % len(storage)\n",
        "  storage[idx] = value\n",
        "\n",
        "def get(key):\n",
        "  idx = my_hash(key) % len(storage)\n",
        "  return storage[idx]\n",
        "\n",
        "put(\"Tom\", 41)\n",
        "put(\"Dxve\", 45)\n",
        "toms_age = get(\"Tom\")\n",
        "daves_age = get(\"Dxve\")\n",
        "\n",
        "print(toms_age)\n",
        "print(daves_age)"
      ],
      "execution_count": null,
      "outputs": [
        {
          "output_type": "stream",
          "text": [
            "41\n",
            "45\n"
          ],
          "name": "stdout"
        }
      ]
    },
    {
      "cell_type": "code",
      "metadata": {
        "colab": {
          "base_uri": "https://localhost:8080/"
        },
        "id": "vNQ7bl11BkRn",
        "outputId": "a7a8c727-7efe-4115-fe6d-921ee304117b"
      },
      "source": [
        "d = dict()\n",
        "d1 = {}\n",
        "dir(d)\n",
        "\n",
        "# 10.__eq__(10)\n",
        "# 10 == 10\n",
        "\n",
        "d[\"Tom\"] = 41 # put\n",
        "d[\"Tom\"] # get\n"
      ],
      "execution_count": null,
      "outputs": [
        {
          "output_type": "execute_result",
          "data": {
            "text/plain": [
              "['__class__',\n",
              " '__contains__',\n",
              " '__delattr__',\n",
              " '__delitem__',\n",
              " '__dir__',\n",
              " '__doc__',\n",
              " '__eq__',\n",
              " '__format__',\n",
              " '__ge__',\n",
              " '__getattribute__',\n",
              " '__getitem__',\n",
              " '__gt__',\n",
              " '__hash__',\n",
              " '__init__',\n",
              " '__init_subclass__',\n",
              " '__iter__',\n",
              " '__le__',\n",
              " '__len__',\n",
              " '__lt__',\n",
              " '__ne__',\n",
              " '__new__',\n",
              " '__reduce__',\n",
              " '__reduce_ex__',\n",
              " '__repr__',\n",
              " '__setattr__',\n",
              " '__setitem__',\n",
              " '__sizeof__',\n",
              " '__str__',\n",
              " '__subclasshook__',\n",
              " 'clear',\n",
              " 'copy',\n",
              " 'fromkeys',\n",
              " 'get',\n",
              " 'items',\n",
              " 'keys',\n",
              " 'pop',\n",
              " 'popitem',\n",
              " 'setdefault',\n",
              " 'update',\n",
              " 'values']"
            ]
          },
          "metadata": {
            "tags": []
          },
          "execution_count": 8
        }
      ]
    },
    {
      "cell_type": "markdown",
      "metadata": {
        "id": "Kp5l7WXpEkX4"
      },
      "source": [
        "# CODE: 6110\n"
      ]
    },
    {
      "cell_type": "code",
      "metadata": {
        "colab": {
          "base_uri": "https://localhost:8080/"
        },
        "id": "Unm1ljZs6jsr",
        "outputId": "38f50445-0e00-43d2-8c12-d562cc5125a0"
      },
      "source": [
        "\"\"\"\n",
        "Add \"Herb\" to the phonebook with the number 7653420789.\n",
        "Remove \"Bill\" from the phonebook.\n",
        "\"\"\"\n",
        "phonebook = {\n",
        "    \"Abe\": 4569874321,\n",
        "    \"Bill\": 7659803241,\n",
        "    \"Barry\": 6573214789\n",
        "}\n",
        "\n",
        "# YOUR CODE HERE\n",
        "phonebook[\"Herb\"] = 7653420789\n",
        "del phonebook[\"Bill\"]\n",
        "\n",
        "\n",
        "# Should print Herb is in the phonebook.\n",
        "if \"Herb\" in phonebook:\n",
        "    print(\"Herb is in the phonebook.\")\n",
        "\n",
        "# Should print Bill is not in the phonebook.\n",
        "if \"Bill\" not in phonebook:\n",
        "    print(\"Bill is not in the phonebook.\")"
      ],
      "execution_count": null,
      "outputs": [
        {
          "output_type": "stream",
          "text": [
            "Herb is in the phonebook.\n",
            "Bill is not in the phonebook.\n"
          ],
          "name": "stdout"
        }
      ]
    },
    {
      "cell_type": "markdown",
      "metadata": {
        "id": "4_IXYejg6g-y"
      },
      "source": [
        "# Demos"
      ]
    },
    {
      "cell_type": "code",
      "metadata": {
        "id": "Y0ikabYn6Yo9"
      },
      "source": [
        "\"\"\"\n",
        "Given an array of integers `nums` and an integer `target`, return the indices\n",
        "of the two numbers that add up to the `target`.\n",
        "Examples:\n",
        "- two_sum(nums = [2,5,9,13], target = 7) -> [0,1] (nums[0] + nums[1] == 7)\n",
        "- two_sum(nums = [4,3,5], target = 8) -> [1,2] (nums[1] + nums[2] == 8)\n",
        "Notes:\n",
        "- Each input will have only one solution.\n",
        "- You may not use the same element twice.\n",
        "- You can return the answer in any order.\n",
        "\"\"\"\n",
        "def two_sum(nums, target):\n",
        "    # Your code here"
      ],
      "execution_count": null,
      "outputs": []
    }
  ]
}